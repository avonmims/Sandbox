{
 "cells": [
  {
   "cell_type": "code",
   "execution_count": 8,
   "id": "86a0eb64",
   "metadata": {},
   "outputs": [
    {
     "name": "stdout",
     "output_type": "stream",
     "text": [
      "<class 'pandas.core.frame.DataFrame'>\n",
      "RangeIndex: 45 entries, 0 to 44\n",
      "Data columns (total 22 columns):\n",
      " #   Column                   Non-Null Count  Dtype  \n",
      "---  ------                   --------------  -----  \n",
      " 0   Gun                      45 non-null     object \n",
      " 1   DMG                      45 non-null     float64\n",
      " 2   ROF                      45 non-null     int64  \n",
      " 3   Precision                45 non-null     int64  \n",
      " 4   DMG at 20M               39 non-null     float64\n",
      " 5   DMG at 35M               39 non-null     float64\n",
      " 6   HS STK at 20M            45 non-null     object \n",
      " 7   HS STK at 35M            45 non-null     object \n",
      " 8   HS TTK at 20M            45 non-null     object \n",
      " 9   HS TTK at 35M            45 non-null     object \n",
      " 10  Body STK at 20M          45 non-null     object \n",
      " 11  Body STK at 35M          45 non-null     object \n",
      " 12  Body TTK at 20M          45 non-null     object \n",
      " 13  Body TTK at 35M          45 non-null     object \n",
      " 14  HS STK (with HP) at 20M  43 non-null     object \n",
      " 15  HS TTK (with HP) at 20M  45 non-null     object \n",
      " 16  HP and Base HS Same TTK  43 non-null     object \n",
      " 17  Synthetic                4 non-null      object \n",
      " 18  1.75                     3 non-null      object \n",
      " 19  DMR HP                   1 non-null      object \n",
      " 20  Yes                      0 non-null      float64\n",
      " 21  No (Syn/HP worth using)  0 non-null      float64\n",
      "dtypes: float64(5), int64(2), object(15)\n",
      "memory usage: 7.9+ KB\n",
      "None\n"
     ]
    }
   ],
   "source": [
    "import pandas as pd\n",
    "\n",
    "data_1 = pd.read_csv('BF6 TTK Chart.xlsx - Point Blank.csv')\n",
    "data_2 = pd.read_csv('BF6 TTK Chart.xlsx - TTK at Range.csv')\n",
    "\n",
    "#print(data_1.info())\n",
    "print(data_2.info())\n",
    "\n",
    "data_1 = data_1.rename(columns={'Gun': 'weapon_name', 'DMG': 'damage_per_shot', 'ROF': 'rate_of_fire',\n",
    "                            'Precision': 'precision', 'Base HS STK': 'headshot_stk',\n",
    "                            'Base HS TTK': 'headshot_ttk', 'Body STK': 'body_stk',\n",
    "                            'Body TTK': 'body_ttk', 'Base HS Same TTK': 'head_body_same_ttk'})\n",
    "\n",
    "#data_2 = data_2.rename(columns={})\n",
    "\n",
    "features_1 = ['weapon_name', 'damage_per_shot', 'rate_of_fire', 'precision',\n",
    "            'headshot_stk', 'headshot_ttk', 'body_stk', 'body_ttk', 'head_body_same_ttk']\n",
    "\n",
    "data_1 = data_1[features_1]\n",
    "\n",
    "#print(data_1.info())"
   ]
  },
  {
   "cell_type": "code",
   "execution_count": null,
   "id": "09e25d72",
   "metadata": {},
   "outputs": [],
   "source": []
  }
 ],
 "metadata": {
  "kernelspec": {
   "display_name": "base",
   "language": "python",
   "name": "python3"
  },
  "language_info": {
   "codemirror_mode": {
    "name": "ipython",
    "version": 3
   },
   "file_extension": ".py",
   "mimetype": "text/x-python",
   "name": "python",
   "nbconvert_exporter": "python",
   "pygments_lexer": "ipython3",
   "version": "3.13.5"
  }
 },
 "nbformat": 4,
 "nbformat_minor": 5
}
