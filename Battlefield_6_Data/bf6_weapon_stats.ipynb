{
 "cells": [
  {
   "cell_type": "code",
   "execution_count": 1,
   "id": "3d6f0dad",
   "metadata": {},
   "outputs": [
    {
     "name": "stdout",
     "output_type": "stream",
     "text": [
      "<class 'pandas.core.frame.DataFrame'>\n",
      "RangeIndex: 45 entries, 0 to 44\n",
      "Data columns (total 19 columns):\n",
      " #   Column               Non-Null Count  Dtype  \n",
      "---  ------               --------------  -----  \n",
      " 0   weapon_name          45 non-null     object \n",
      " 1   rate_of_fire         45 non-null     int64  \n",
      " 2   precision            45 non-null     int64  \n",
      " 3   damage_per_shot      45 non-null     float64\n",
      " 4   damage_per_shot_20m  39 non-null     float64\n",
      " 5   damage_per_shot_35m  39 non-null     float64\n",
      " 6   body_ttk             45 non-null     float64\n",
      " 7   body_ttk_20m         45 non-null     object \n",
      " 8   body_ttk_35m         45 non-null     object \n",
      " 9   head_ttk             45 non-null     float64\n",
      " 10  head_ttk_20m         45 non-null     object \n",
      " 11  head_ttk_35m         45 non-null     object \n",
      " 12  head_body_same_ttk   45 non-null     object \n",
      " 13  body_stk             45 non-null     int64  \n",
      " 14  body_stk_20m         45 non-null     object \n",
      " 15  body_stk_35m         45 non-null     object \n",
      " 16  head_stk             45 non-null     int64  \n",
      " 17  head_stk_20m         45 non-null     object \n",
      " 18  head_stk_35m         45 non-null     object \n",
      "dtypes: float64(5), int64(4), object(10)\n",
      "memory usage: 6.8+ KB\n",
      "None\n"
     ]
    }
   ],
   "source": [
    "import pandas as pd\n",
    "\n",
    "data_1 = pd.read_csv('BF6 TTK Chart.xlsx - Point Blank.csv')\n",
    "data_2 = pd.read_csv('BF6 TTK Chart.xlsx - TTK at Range.csv')\n",
    "\n",
    "#print(data_1.info())\n",
    "#print(data_2.info())\n",
    "\n",
    "data_1 = data_1.rename(columns={'Gun': 'weapon_name', 'DMG': 'damage_per_shot', 'ROF': 'rate_of_fire',\n",
    "                            'Precision': 'precision', 'Base HS STK': 'head_stk',\n",
    "                            'Base HS TTK': 'head_ttk', 'Body STK': 'body_stk',\n",
    "                            'Body TTK': 'body_ttk', 'Base HS Same TTK': 'head_body_same_ttk'})\n",
    "\n",
    "data_2 = data_2.rename(columns={'DMG at 20M': 'damage_per_shot_20m', 'DMG at 35M': 'damage_per_shot_35m',\n",
    "                                'HS STK at 20M': 'head_stk_20m', 'HS TTK at 20M': 'head_ttk_20m',\n",
    "                                'Body STK at 20M': 'body_stk_20m', 'Body TTK at 20M': 'body_ttk_20m',\n",
    "                                'HS STK at 35M': 'head_stk_35m', 'HS TTK at 35M': 'head_ttk_35m',\n",
    "                                'Body STK at 35M': 'body_stk_35m', 'Body TTK at 35M': 'body_ttk_35m'})\n",
    "\n",
    "features_1 = ['weapon_name', 'damage_per_shot', 'rate_of_fire', 'precision',\n",
    "            'head_stk', 'head_ttk', 'body_stk', 'body_ttk', 'head_body_same_ttk']\n",
    "\n",
    "features_2 = ['damage_per_shot_20m', 'damage_per_shot_35m', 'head_stk_20m', 'head_ttk_20m',\n",
    "            'body_stk_20m', 'body_ttk_20m', 'head_stk_35m', 'head_ttk_35m','body_stk_35m',\n",
    "            'body_ttk_35m']\n",
    "\n",
    "data_1 = data_1[features_1]\n",
    "data_2 = data_2[features_2]\n",
    "\n",
    "#print(data_1.info())\n",
    "#print(data_2.info())\n",
    "\n",
    "data = pd.concat([data_1, data_2], axis=1)\n",
    "\n",
    "column_order = ['weapon_name', 'rate_of_fire', 'precision', 'damage_per_shot', 'damage_per_shot_20m',\n",
    "                'damage_per_shot_35m', 'body_ttk', 'body_ttk_20m', 'body_ttk_35m', 'head_ttk',\n",
    "                'head_ttk_20m', 'head_ttk_35m', 'head_body_same_ttk', 'body_stk', 'body_stk_20m', \n",
    "                'body_stk_35m', 'head_stk', 'head_stk_20m', 'head_stk_35m']\n",
    "\n",
    "data = data[column_order]\n",
    "\n",
    "print(data.info())"
   ]
  },
  {
   "cell_type": "markdown",
   "id": "a943920c",
   "metadata": {},
   "source": [
    "**- data cleaned, add function for weapon categorization, group weapons by category**"
   ]
  }
 ],
 "metadata": {
  "kernelspec": {
   "display_name": "base",
   "language": "python",
   "name": "python3"
  },
  "language_info": {
   "codemirror_mode": {
    "name": "ipython",
    "version": 3
   },
   "file_extension": ".py",
   "mimetype": "text/x-python",
   "name": "python",
   "nbconvert_exporter": "python",
   "pygments_lexer": "ipython3",
   "version": "3.13.5"
  }
 },
 "nbformat": 4,
 "nbformat_minor": 5
}
